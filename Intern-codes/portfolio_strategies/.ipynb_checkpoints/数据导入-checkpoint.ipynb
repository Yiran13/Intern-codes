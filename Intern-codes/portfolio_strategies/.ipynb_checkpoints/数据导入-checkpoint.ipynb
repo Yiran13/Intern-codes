{
 "cells": [
  {
   "cell_type": "code",
   "execution_count": 1,
   "metadata": {},
   "outputs": [],
   "source": [
    "from datetime import datetime\n",
    "from vnpy.app.portfolio_strategy import BacktestingEngine\n",
    "\n",
    "from vnpy.trader.constant import Interval\n"
   ]
  },
  {
   "cell_type": "code",
   "execution_count": 2,
   "metadata": {},
   "outputs": [],
   "source": [
    "from trend_following_version1 import ATR_RSI_Strategy"
   ]
  },
  {
   "cell_type": "code",
   "execution_count": null,
   "metadata": {},
   "outputs": [],
   "source": [
    "# #%%\n",
    "# engine = BacktestingEngine()\n",
    "# engine.set_parameters(\n",
    "#     vt_symbols=[\"IF888.CFFEX\", \"AP888.CZCE\", \"RB888.SHFE\"],\n",
    "#     interval=Interval.MINUTE,\n",
    "#     start=datetime(2018, 2, 1),\n",
    "#     end=datetime(2019, 4, 30),\n",
    "#     rates={\"IF888.CFFEX\": 0.3/10000,\"AP888.CZCE\": 0.3/10000,\"RB888.SHFE\": 0.3/10000},\n",
    "#     slippages={\"IF888.CFFEX\": 0.2,\"AP888.CZCE\": 0.2,\"RB888.SHFE\": 0.2},\n",
    "#     sizes={\"IF888.CFFEX\": 300,\"RB888.SHFE\":10, \"AP888.CZCE\":10},\n",
    "#     priceticks={\"IF888.CFFEX\": 0.2,\"AP888.CZCE\":1,\"RB888.SHFE\":1},\n",
    "#     capital=1_000_000,\n",
    "#     collection_names={\"IF888.CFFEX\": 'IF888',\"AP888.CZCE\":'AP888',\"RB888.SHFE\":'RB888'}\n",
    "    \n",
    "# )\n",
    "# engine.add_strategy(ATR_RSI_Strategy, {})"
   ]
  },
  {
   "cell_type": "code",
   "execution_count": null,
   "metadata": {},
   "outputs": [],
   "source": [
    "#%%\n",
    "engine = BacktestingEngine()\n",
    "engine.set_parameters(\n",
    "    vt_symbols=[ \"AP888.CZCE\", \"RB888.SHFE\"],\n",
    "    interval=Interval.MINUTE,\n",
    "    start=datetime(2018, 2, 1),\n",
    "    end=datetime(2019, 4, 30),\n",
    "    rates={\"AP888.CZCE\": 0.3/10000,\"RB888.SHFE\": 0.3/10000},\n",
    "    slippages={\"AP888.CZCE\": 0.2,\"RB888.SHFE\": 0.2},\n",
    "    sizes={\"RB888.SHFE\":10, \"AP888.CZCE\":10},\n",
    "    priceticks={\"AP888.CZCE\":1,\"RB888.SHFE\":1},\n",
    "    capital=1_000_000,\n",
    "    collection_names={\"AP888.CZCE\":'AP888',\"RB888.SHFE\":'RB888'}\n",
    "    \n",
    ")\n",
    "engine.add_strategy(ATR_RSI_Strategy, {})"
   ]
  },
  {
   "cell_type": "code",
   "execution_count": null,
   "metadata": {},
   "outputs": [],
   "source": [
    "engine.load_data()\n",
    "engine.run_backtesting()\n",
    "df = engine.calculate_result()\n",
    "engine.calculate_statistics()\n",
    "engine.show_chart()"
   ]
  },
  {
   "cell_type": "code",
   "execution_count": null,
   "metadata": {},
   "outputs": [],
   "source": [
    "engine.strategy.__dict__"
   ]
  },
  {
   "cell_type": "code",
   "execution_count": null,
   "metadata": {},
   "outputs": [],
   "source": [
    "engine.bars['IF888.CFFEX'].vt_symbol"
   ]
  },
  {
   "cell_type": "code",
   "execution_count": null,
   "metadata": {},
   "outputs": [],
   "source": [
    "engine.bars['IF888.CFFEX'].close_price"
   ]
  },
  {
   "cell_type": "code",
   "execution_count": null,
   "metadata": {},
   "outputs": [],
   "source": [
    "engine.contract_results"
   ]
  },
  {
   "cell_type": "code",
   "execution_count": null,
   "metadata": {},
   "outputs": [],
   "source": []
  }
 ],
 "metadata": {
  "kernelspec": {
   "display_name": "Python 3",
   "language": "python",
   "name": "python3"
  },
  "language_info": {
   "codemirror_mode": {
    "name": "ipython",
    "version": 3
   },
   "file_extension": ".py",
   "mimetype": "text/x-python",
   "name": "python",
   "nbconvert_exporter": "python",
   "pygments_lexer": "ipython3",
   "version": "3.7.1"
  }
 },
 "nbformat": 4,
 "nbformat_minor": 2
}
