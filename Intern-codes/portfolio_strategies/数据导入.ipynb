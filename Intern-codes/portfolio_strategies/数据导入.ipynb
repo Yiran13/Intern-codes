{
 "cells": [
  {
   "cell_type": "code",
   "execution_count": 31,
   "metadata": {},
   "outputs": [],
   "source": [
    "from datetime import datetime\n",
    "from vnpy.app.portfolio_strategy import BacktestingEngine\n",
    "from vnpy.trader.constant import Interval\n",
    "from trend_following_version1 import ATR_RSI_Strategy\n",
    "import sys\n",
    "sys.path.append('D:/Y_W_CTA/yiran_strategies/tools/')\n",
    "from move_minute_from_csv_to_mongodb_with_collection import move_single_symbol_to_mongodb\n",
    "from vnpy.trader.constant import (Exchange, Interval)"
   ]
  },
  {
   "cell_type": "code",
   "execution_count": null,
   "metadata": {
    "tags": [
     "Porrfolio_strategy策略配置"
    ]
   },
   "outputs": [],
   "source": [
    "#%%\n",
    "engine = BacktestingEngine()\n",
    "engine.set_parameters(\n",
    "    vt_symbols=[ \"au88.SHFE\", \"ag88.SHFE\"],\n",
    "    interval=Interval.MINUTE,\n",
    "    start=datetime(2016, 1, 1),\n",
    "    end=datetime(2017, 1, 1),\n",
    "    rates={\"au88.SHFE\": 0.3/10000,\"ag88.SHFE\": 0.3/10000},\n",
    "    slippages={\"au88.SHFE\": 0.2,\"ag88.SHFE\": 0.2},\n",
    "    sizes={\"ag88.SHFE\":10, \"au88.SHFE\":10},\n",
    "    priceticks={\"au88.SHFE\":1,\"ag88.SHFE\":1},\n",
    "    capital=1_000_000,\n",
    "    collection_names={\"au88.SHFE\":'au88',\"ag88.SHFE\":'ag88'}\n",
    "    \n",
    ")\n",
    "engine.add_strategy(ATR_RSI_Strategy, {})"
   ]
  },
  {
   "cell_type": "code",
   "execution_count": null,
   "metadata": {
    "tags": [
     "启动回测"
    ]
   },
   "outputs": [],
   "source": [
    "engine.load_data()\n",
    "engine.run_backtesting()\n",
    "df = engine.calculate_result()\n",
    "engine.calculate_statistics()\n",
    "engine.show_chart()"
   ]
  },
  {
   "cell_type": "code",
   "execution_count": 6,
   "metadata": {},
   "outputs": [
    {
     "name": "stdout",
     "output_type": "stream",
     "text": [
      "2020-05-02 18:44:35.433130\t开始加载历史数据\n",
      "2020-05-02 18:44:36.318760\tau88.SHFE加载进度：########## [100%]\n",
      "2020-05-02 18:44:36.318760\tau88.SHFE历史数据加载完成，数据量：10771\n",
      "2020-05-02 18:44:37.194417\tag88.SHFE加载进度：########## [100%]\n",
      "2020-05-02 18:44:37.194417\tag88.SHFE历史数据加载完成，数据量：10771\n",
      "2020-05-02 18:44:37.831676\trb88.SHFE加载进度：########## [100%]\n",
      "2020-05-02 18:44:37.831676\trb88.SHFE历史数据加载完成，数据量：6780\n",
      "2020-05-02 18:44:37.831676\t所有历史数据加载完成\n",
      "2020-05-02 18:44:37.834668\t数据缺失：2016-06-01 00:00:00 rb88.SHFE\n",
      "2020-05-02 18:44:37.835665\t数据缺失：2016-06-01 00:01:00 rb88.SHFE\n",
      "2020-05-02 18:44:37.835665\t数据缺失：2016-06-01 00:02:00 rb88.SHFE\n",
      "2020-05-02 18:44:37.835665\t数据缺失：2016-06-01 00:03:00 rb88.SHFE\n",
      "2020-05-02 18:44:37.835665\t数据缺失：2016-06-01 00:04:00 rb88.SHFE\n",
      "2020-05-02 18:44:37.835665\t数据缺失：2016-06-01 00:05:00 rb88.SHFE\n",
      "2020-05-02 18:44:37.835665\t数据缺失：2016-06-01 00:06:00 rb88.SHFE\n",
      "2020-05-02 18:44:37.835665\t数据缺失：2016-06-01 00:07:00 rb88.SHFE\n",
      "2020-05-02 18:44:37.835665\t数据缺失：2016-06-01 00:08:00 rb88.SHFE\n",
      "2020-05-02 18:44:37.835665\t数据缺失：2016-06-01 00:09:00 rb88.SHFE\n",
      "2020-05-02 18:44:37.835665\t数据缺失：2016-06-01 00:10:00 rb88.SHFE\n",
      "2020-05-02 18:44:37.835665\t数据缺失：2016-06-01 00:11:00 rb88.SHFE\n",
      "2020-05-02 18:44:37.835665\t数据缺失：2016-06-01 00:12:00 rb88.SHFE\n",
      "2020-05-02 18:44:37.835665\t数据缺失：2016-06-01 00:13:00 rb88.SHFE\n",
      "2020-05-02 18:44:37.835665\t数据缺失：2016-06-01 00:14:00 rb88.SHFE\n",
      "2020-05-02 18:44:37.835665\t数据缺失：2016-06-01 00:15:00 rb88.SHFE\n",
      "2020-05-02 18:44:37.835665\t数据缺失：2016-06-01 00:16:00 rb88.SHFE\n",
      "2020-05-02 18:44:37.835665\t数据缺失：2016-06-01 00:17:00 rb88.SHFE\n",
      "2020-05-02 18:44:37.835665\t数据缺失：2016-06-01 00:18:00 rb88.SHFE\n",
      "2020-05-02 18:44:37.835665\t数据缺失：2016-06-01 00:19:00 rb88.SHFE\n",
      "2020-05-02 18:44:37.835665\t数据缺失：2016-06-01 00:20:00 rb88.SHFE\n",
      "2020-05-02 18:44:37.835665\t数据缺失：2016-06-01 00:21:00 rb88.SHFE\n",
      "2020-05-02 18:44:37.835665\t数据缺失：2016-06-01 00:22:00 rb88.SHFE\n",
      "2020-05-02 18:44:37.835665\t数据缺失：2016-06-01 00:23:00 rb88.SHFE\n",
      "2020-05-02 18:44:37.835665\t数据缺失：2016-06-01 00:24:00 rb88.SHFE\n",
      "2020-05-02 18:44:37.836663\t数据缺失：2016-06-01 00:25:00 rb88.SHFE\n",
      "2020-05-02 18:44:37.836663\t数据缺失：2016-06-01 00:26:00 rb88.SHFE\n",
      "2020-05-02 18:44:37.836663\t数据缺失：2016-06-01 00:27:00 rb88.SHFE\n",
      "2020-05-02 18:44:37.836663\t数据缺失：2016-06-01 00:28:00 rb88.SHFE\n",
      "2020-05-02 18:44:37.836663\t数据缺失：2016-06-01 00:29:00 rb88.SHFE\n",
      "2020-05-02 18:44:37.838657\t数据缺失：2016-06-01 00:30:00 rb88.SHFE\n",
      "2020-05-02 18:44:37.838657\t数据缺失：2016-06-01 00:31:00 rb88.SHFE\n",
      "2020-05-02 18:44:37.838657\t数据缺失：2016-06-01 00:32:00 rb88.SHFE\n",
      "2020-05-02 18:44:37.838657\t数据缺失：2016-06-01 00:33:00 rb88.SHFE\n",
      "2020-05-02 18:44:37.838657\t数据缺失：2016-06-01 00:34:00 rb88.SHFE\n",
      "2020-05-02 18:44:37.838657\t数据缺失：2016-06-01 00:35:00 rb88.SHFE\n",
      "2020-05-02 18:44:37.838657\t数据缺失：2016-06-01 00:36:00 rb88.SHFE\n",
      "2020-05-02 18:44:37.838657\t数据缺失：2016-06-01 00:37:00 rb88.SHFE\n",
      "2020-05-02 18:44:37.838657\t数据缺失：2016-06-01 00:38:00 rb88.SHFE\n",
      "2020-05-02 18:44:37.838657\t数据缺失：2016-06-01 00:39:00 rb88.SHFE\n",
      "2020-05-02 18:44:37.838657\t数据缺失：2016-06-01 00:40:00 rb88.SHFE\n",
      "2020-05-02 18:44:37.838657\t数据缺失：2016-06-01 00:41:00 rb88.SHFE\n",
      "2020-05-02 18:44:37.838657\t数据缺失：2016-06-01 00:42:00 rb88.SHFE\n",
      "2020-05-02 18:44:37.838657\t数据缺失：2016-06-01 00:43:00 rb88.SHFE\n",
      "2020-05-02 18:44:37.838657\t数据缺失：2016-06-01 00:44:00 rb88.SHFE\n",
      "2020-05-02 18:44:37.839655\t数据缺失：2016-06-01 00:45:00 rb88.SHFE\n",
      "2020-05-02 18:44:37.839655\t数据缺失：2016-06-01 00:46:00 rb88.SHFE\n",
      "2020-05-02 18:44:37.839655\t数据缺失：2016-06-01 00:47:00 rb88.SHFE\n",
      "2020-05-02 18:44:37.839655\t数据缺失：2016-06-01 00:48:00 rb88.SHFE\n",
      "2020-05-02 18:44:37.839655\t数据缺失：2016-06-01 00:49:00 rb88.SHFE\n",
      "2020-05-02 18:44:37.839655\t数据缺失：2016-06-01 00:50:00 rb88.SHFE\n",
      "2020-05-02 18:44:37.839655\t数据缺失：2016-06-01 00:51:00 rb88.SHFE\n",
      "2020-05-02 18:44:37.839655\t数据缺失：2016-06-01 00:52:00 rb88.SHFE\n",
      "2020-05-02 18:44:37.839655\t数据缺失：2016-06-01 00:53:00 rb88.SHFE\n",
      "2020-05-02 18:44:37.839655\t数据缺失：2016-06-01 00:54:00 rb88.SHFE\n",
      "2020-05-02 18:44:37.839655\t数据缺失：2016-06-01 00:55:00 rb88.SHFE\n",
      "2020-05-02 18:44:37.839655\t数据缺失：2016-06-01 00:56:00 rb88.SHFE\n",
      "2020-05-02 18:44:37.839655\t数据缺失：2016-06-01 00:57:00 rb88.SHFE\n",
      "2020-05-02 18:44:37.839655\t数据缺失：2016-06-01 00:58:00 rb88.SHFE\n",
      "2020-05-02 18:44:37.839655\t数据缺失：2016-06-01 00:59:00 rb88.SHFE\n",
      "2020-05-02 18:44:37.840652\t数据缺失：2016-06-01 01:00:00 rb88.SHFE\n",
      "2020-05-02 18:44:37.840652\t数据缺失：2016-06-01 01:01:00 rb88.SHFE\n",
      "2020-05-02 18:44:37.840652\t数据缺失：2016-06-01 01:02:00 rb88.SHFE\n",
      "2020-05-02 18:44:37.840652\t数据缺失：2016-06-01 01:03:00 rb88.SHFE\n",
      "2020-05-02 18:44:37.840652\t数据缺失：2016-06-01 01:04:00 rb88.SHFE\n",
      "2020-05-02 18:44:37.840652\t数据缺失：2016-06-01 01:05:00 rb88.SHFE\n",
      "2020-05-02 18:44:37.840652\t数据缺失：2016-06-01 01:06:00 rb88.SHFE\n",
      "2020-05-02 18:44:37.840652\t数据缺失：2016-06-01 01:07:00 rb88.SHFE\n",
      "2020-05-02 18:44:37.840652\t数据缺失：2016-06-01 01:08:00 rb88.SHFE\n",
      "2020-05-02 18:44:37.840652\t数据缺失：2016-06-01 01:09:00 rb88.SHFE\n",
      "2020-05-02 18:44:37.840652\t数据缺失：2016-06-01 01:10:00 rb88.SHFE\n",
      "2020-05-02 18:44:37.840652\t数据缺失：2016-06-01 01:11:00 rb88.SHFE\n",
      "2020-05-02 18:44:37.840652\t数据缺失：2016-06-01 01:12:00 rb88.SHFE\n",
      "2020-05-02 18:44:37.840652\t数据缺失：2016-06-01 01:13:00 rb88.SHFE\n",
      "2020-05-02 18:44:37.840652\t数据缺失：2016-06-01 01:14:00 rb88.SHFE\n",
      "2020-05-02 18:44:37.840652\t数据缺失：2016-06-01 01:15:00 rb88.SHFE\n",
      "2020-05-02 18:44:37.840652\t数据缺失：2016-06-01 01:16:00 rb88.SHFE\n",
      "2020-05-02 18:44:37.840652\t数据缺失：2016-06-01 01:17:00 rb88.SHFE\n",
      "2020-05-02 18:44:37.841649\t数据缺失：2016-06-01 01:18:00 rb88.SHFE\n",
      "2020-05-02 18:44:37.841649\t数据缺失：2016-06-01 01:19:00 rb88.SHFE\n",
      "2020-05-02 18:44:37.841649\t数据缺失：2016-06-01 01:20:00 rb88.SHFE\n",
      "2020-05-02 18:44:37.841649\t数据缺失：2016-06-01 01:21:00 rb88.SHFE\n",
      "2020-05-02 18:44:37.841649\t数据缺失：2016-06-01 01:22:00 rb88.SHFE\n",
      "2020-05-02 18:44:37.841649\t数据缺失：2016-06-01 01:23:00 rb88.SHFE\n",
      "2020-05-02 18:44:37.841649\t数据缺失：2016-06-01 01:24:00 rb88.SHFE\n",
      "2020-05-02 18:44:37.843644\t数据缺失：2016-06-01 01:25:00 rb88.SHFE\n",
      "2020-05-02 18:44:37.843644\t数据缺失：2016-06-01 01:26:00 rb88.SHFE\n",
      "2020-05-02 18:44:37.844641\t数据缺失：2016-06-01 01:27:00 rb88.SHFE\n",
      "2020-05-02 18:44:37.844641\t数据缺失：2016-06-01 01:28:00 rb88.SHFE\n",
      "2020-05-02 18:44:37.844641\t数据缺失：2016-06-01 01:29:00 rb88.SHFE\n",
      "2020-05-02 18:44:37.844641\t数据缺失：2016-06-01 01:30:00 rb88.SHFE\n",
      "2020-05-02 18:44:37.844641\t数据缺失：2016-06-01 01:31:00 rb88.SHFE\n",
      "2020-05-02 18:44:37.844641\t数据缺失：2016-06-01 01:32:00 rb88.SHFE\n",
      "2020-05-02 18:44:37.844641\t数据缺失：2016-06-01 01:33:00 rb88.SHFE\n",
      "2020-05-02 18:44:37.844641\t数据缺失：2016-06-01 01:34:00 rb88.SHFE\n",
      "2020-05-02 18:44:37.844641\t数据缺失：2016-06-01 01:35:00 rb88.SHFE\n",
      "2020-05-02 18:44:37.844641\t数据缺失：2016-06-01 01:36:00 rb88.SHFE\n",
      "2020-05-02 18:44:37.844641\t数据缺失：2016-06-01 01:37:00 rb88.SHFE\n",
      "2020-05-02 18:44:37.844641\t数据缺失：2016-06-01 01:38:00 rb88.SHFE\n",
      "2020-05-02 18:44:37.844641\t数据缺失：2016-06-01 01:39:00 rb88.SHFE\n",
      "2020-05-02 18:44:37.844641\t数据缺失：2016-06-01 01:40:00 rb88.SHFE\n",
      "2020-05-02 18:44:37.844641\t数据缺失：2016-06-01 01:41:00 rb88.SHFE\n",
      "2020-05-02 18:44:37.844641\t数据缺失：2016-06-01 01:42:00 rb88.SHFE\n",
      "2020-05-02 18:44:37.844641\t数据缺失：2016-06-01 01:43:00 rb88.SHFE\n",
      "2020-05-02 18:44:37.844641\t数据缺失：2016-06-01 01:44:00 rb88.SHFE\n",
      "2020-05-02 18:44:37.844641\t数据缺失：2016-06-01 01:45:00 rb88.SHFE\n",
      "2020-05-02 18:44:37.844641\t数据缺失：2016-06-01 01:46:00 rb88.SHFE\n",
      "2020-05-02 18:44:37.844641\t数据缺失：2016-06-01 01:47:00 rb88.SHFE\n",
      "2020-05-02 18:44:37.844641\t数据缺失：2016-06-01 01:48:00 rb88.SHFE\n",
      "2020-05-02 18:44:37.844641\t数据缺失：2016-06-01 01:49:00 rb88.SHFE\n",
      "2020-05-02 18:44:37.844641\t数据缺失：2016-06-01 01:50:00 rb88.SHFE\n",
      "2020-05-02 18:44:37.844641\t数据缺失：2016-06-01 01:51:00 rb88.SHFE\n",
      "2020-05-02 18:44:37.844641\t数据缺失：2016-06-01 01:52:00 rb88.SHFE\n",
      "2020-05-02 18:44:37.845639\t数据缺失：2016-06-01 01:53:00 rb88.SHFE\n",
      "2020-05-02 18:44:37.845639\t数据缺失：2016-06-01 01:54:00 rb88.SHFE\n",
      "2020-05-02 18:44:37.845639\t数据缺失：2016-06-01 01:55:00 rb88.SHFE\n",
      "2020-05-02 18:44:37.845639\t数据缺失：2016-06-01 01:56:00 rb88.SHFE\n",
      "2020-05-02 18:44:37.845639\t数据缺失：2016-06-01 01:57:00 rb88.SHFE\n",
      "2020-05-02 18:44:37.847633\t数据缺失：2016-06-01 01:58:00 rb88.SHFE\n",
      "2020-05-02 18:44:37.847633\t数据缺失：2016-06-01 01:59:00 rb88.SHFE\n",
      "2020-05-02 18:44:37.847633\t数据缺失：2016-06-01 02:00:00 rb88.SHFE\n",
      "2020-05-02 18:44:37.847633\t数据缺失：2016-06-01 02:01:00 rb88.SHFE\n",
      "2020-05-02 18:44:37.848631\t数据缺失：2016-06-01 02:02:00 rb88.SHFE\n",
      "2020-05-02 18:44:37.848631\t数据缺失：2016-06-01 02:03:00 rb88.SHFE\n",
      "2020-05-02 18:44:37.848631\t数据缺失：2016-06-01 02:04:00 rb88.SHFE\n",
      "2020-05-02 18:44:37.848631\t数据缺失：2016-06-01 02:05:00 rb88.SHFE\n",
      "2020-05-02 18:44:37.848631\t数据缺失：2016-06-01 02:06:00 rb88.SHFE\n",
      "2020-05-02 18:44:37.849628\t数据缺失：2016-06-01 02:07:00 rb88.SHFE\n",
      "2020-05-02 18:44:37.849628\t数据缺失：2016-06-01 02:08:00 rb88.SHFE\n",
      "2020-05-02 18:44:37.849628\t数据缺失：2016-06-01 02:09:00 rb88.SHFE\n",
      "2020-05-02 18:44:37.849628\t数据缺失：2016-06-01 02:10:00 rb88.SHFE\n",
      "2020-05-02 18:44:37.849628\t数据缺失：2016-06-01 02:11:00 rb88.SHFE\n",
      "2020-05-02 18:44:37.850625\t数据缺失：2016-06-01 02:12:00 rb88.SHFE\n",
      "2020-05-02 18:44:37.850625\t数据缺失：2016-06-01 02:13:00 rb88.SHFE\n",
      "2020-05-02 18:44:37.850625\t数据缺失：2016-06-01 02:14:00 rb88.SHFE\n",
      "2020-05-02 18:44:37.850625\t数据缺失：2016-06-01 02:15:00 rb88.SHFE\n",
      "2020-05-02 18:44:37.850625\t数据缺失：2016-06-01 02:16:00 rb88.SHFE\n",
      "2020-05-02 18:44:37.851623\t数据缺失：2016-06-01 02:17:00 rb88.SHFE\n",
      "2020-05-02 18:44:37.851623\t数据缺失：2016-06-01 02:18:00 rb88.SHFE\n",
      "2020-05-02 18:44:37.851623\t数据缺失：2016-06-01 02:19:00 rb88.SHFE\n",
      "2020-05-02 18:44:37.851623\t数据缺失：2016-06-01 02:20:00 rb88.SHFE\n",
      "2020-05-02 18:44:37.851623\t数据缺失：2016-06-01 02:21:00 rb88.SHFE\n",
      "2020-05-02 18:44:37.851623\t数据缺失：2016-06-01 02:22:00 rb88.SHFE\n",
      "2020-05-02 18:44:37.852620\t数据缺失：2016-06-01 02:23:00 rb88.SHFE\n",
      "2020-05-02 18:44:37.852620\t数据缺失：2016-06-01 02:24:00 rb88.SHFE\n",
      "2020-05-02 18:44:37.852620\t数据缺失：2016-06-01 02:25:00 rb88.SHFE\n",
      "2020-05-02 18:44:37.852620\t数据缺失：2016-06-01 02:26:00 rb88.SHFE\n",
      "2020-05-02 18:44:37.852620\t数据缺失：2016-06-01 02:27:00 rb88.SHFE\n",
      "2020-05-02 18:44:37.853617\t数据缺失：2016-06-01 02:28:00 rb88.SHFE\n",
      "2020-05-02 18:44:37.853617\t数据缺失：2016-06-01 02:29:00 rb88.SHFE\n",
      "2020-05-02 18:44:37.853617\t数据缺失：2016-06-01 02:30:00 rb88.SHFE\n",
      "2020-05-02 18:44:37.853617\t触发异常，回测终止\n",
      "2020-05-02 18:44:37.854615\tTraceback (most recent call last):\n",
      "  File \"c:\\vnstudio\\lib\\site-packages\\vnpy\\app\\portfolio_strategy\\backtesting.py\", line 196, in run_backtesting\n",
      "    self.new_bars(dt)\n",
      "  File \"c:\\vnstudio\\lib\\site-packages\\vnpy\\app\\portfolio_strategy\\backtesting.py\", line 496, in new_bars\n",
      "    self.update_daily_close(self.bars, dt)\n",
      "  File \"c:\\vnstudio\\lib\\site-packages\\vnpy\\app\\portfolio_strategy\\backtesting.py\", line 476, in update_daily_close\n",
      "    daily_result.update_close_prices(close_prices)\n",
      "  File \"c:\\vnstudio\\lib\\site-packages\\vnpy\\app\\portfolio_strategy\\backtesting.py\", line 810, in update_close_prices\n",
      "    contract_result = self.contract_results[vt_symbol]\n",
      "KeyError: 'rb88.SHFE'\n",
      "\n",
      "2020-05-02 18:44:37.854615\t开始计算逐日盯市盈亏\n",
      "2020-05-02 18:44:37.854615\t成交记录为空，无法计算\n",
      "2020-05-02 18:44:37.854615\t开始计算策略统计指标\n",
      "2020-05-02 18:44:37.854615\t------------------------------\n",
      "2020-05-02 18:44:37.855612\t首个交易日：\t\n",
      "2020-05-02 18:44:37.855612\t最后交易日：\t\n",
      "2020-05-02 18:44:37.855612\t总交易日：\t0\n",
      "2020-05-02 18:44:37.855612\t盈利交易日：\t0\n",
      "2020-05-02 18:44:37.855612\t亏损交易日：\t0\n",
      "2020-05-02 18:44:37.855612\t起始资金：\t1,000,000.00\n",
      "2020-05-02 18:44:37.855612\t结束资金：\t0.00\n",
      "2020-05-02 18:44:37.855612\t总收益率：\t0.00%\n",
      "2020-05-02 18:44:37.855612\t年化收益：\t0.00%\n",
      "2020-05-02 18:44:37.855612\t最大回撤: \t0.00\n",
      "2020-05-02 18:44:37.855612\t百分比最大回撤: 0.00%\n",
      "2020-05-02 18:44:37.856609\t最长回撤天数: \t0\n",
      "2020-05-02 18:44:37.856609\t总盈亏：\t0.00\n",
      "2020-05-02 18:44:37.856609\t总手续费：\t0.00\n",
      "2020-05-02 18:44:37.856609\t总滑点：\t0.00\n",
      "2020-05-02 18:44:37.856609\t总成交金额：\t0.00\n",
      "2020-05-02 18:44:37.856609\t总成交笔数：\t0\n",
      "2020-05-02 18:44:37.856609\t日均盈亏：\t0.00\n",
      "2020-05-02 18:44:37.856609\t日均手续费：\t0.00\n",
      "2020-05-02 18:44:37.856609\t日均滑点：\t0.00\n",
      "2020-05-02 18:44:37.856609\t日均成交金额：\t0.00\n",
      "2020-05-02 18:44:37.856609\t日均成交笔数：\t0\n",
      "2020-05-02 18:44:37.856609\t日均收益率：\t0.00%\n",
      "2020-05-02 18:44:37.856609\t收益标准差：\t0.00%\n",
      "2020-05-02 18:44:37.856609\tSharpe Ratio：\t0.00\n",
      "2020-05-02 18:44:37.856609\t收益回撤比：\t0.00\n",
      "2020-05-02 18:44:37.856609\t策略统计指标计算完成\n"
     ]
    }
   ],
   "source": [
    "from datetime import datetime\n",
    "from vnpy.app.portfolio_strategy import BacktestingEngine\n",
    "from vnpy.trader.constant import Interval\n",
    "from trend_following_version1 import ATR_RSI_Strategy\n",
    "from portfolio_signals import TredningFollowingSignals\n",
    "#%%\n",
    "engine = BacktestingEngine()\n",
    "engine.set_parameters(\n",
    "    vt_symbols=[ \"au88.SHFE\", \"ag88.SHFE\", 'rb88.SHFE'],\n",
    "    interval=Interval.MINUTE,\n",
    "    start=datetime(2016, 6, 1),\n",
    "    end=datetime(2016, 7,1),\n",
    "    rates={\"au88.SHFE\": 0.3/10000,\"ag88.SHFE\": 0.3/10000,\n",
    "    \"rb88.SHFE\": 0.3/10000},\n",
    "    slippages={\"au88.SHFE\": 0.2,\"ag88.SHFE\": 0.2,\n",
    "    \"rb88.SHFE\": 0.2},\n",
    "    sizes={\"au88.SHFE\":10, \"ag88.SHFE\":10,\n",
    "    \"rb88.SHFE\":10},\n",
    "    priceticks={\"au88.SHFE\":1,\"ag88.SHFE\":1,\n",
    "    \"rb88.SHFE\":1},\n",
    "    capital=1_000_000,\n",
    "    collection_names={\"au88.SHFE\":'au88',\"ag88.SHFE\":'ag88',\n",
    "    \"rb88.SHFE\":'rb88'}\n",
    "\n",
    ")\n",
    "engine.add_strategy(TredningFollowingSignals, {})\n",
    "engine.load_data()\n",
    "engine.run_backtesting()\n",
    "df = engine.calculate_result()\n",
    "engine.calculate_statistics()\n",
    "engine.show_chart()\n"
   ]
  },
  {
   "cell_type": "code",
   "execution_count": 22,
   "metadata": {},
   "outputs": [
    {
     "data": {
      "text/plain": [
       "BarData(gateway_name='DB', symbol='rb88', exchange=<Exchange.SHFE: 'SHFE'>, datetime=datetime.datetime(2016, 6, 1, 10, 1), interval=<Interval.MINUTE: '1m'>, volume=18398.0, open_interest=3052692.0, open_price=1959.0, high_price=1960.0, low_price=1958.0, close_price=1959.0)"
      ]
     },
     "execution_count": 22,
     "metadata": {},
     "output_type": "execute_result"
    }
   ],
   "source": [
    "engine.history_data.get((datetime(2016,6,1,10,1),'rb88.SHFE'))\n"
   ]
  },
  {
   "cell_type": "markdown",
   "metadata": {},
   "source": [
    "#### 数据准备\n",
    "- 品种: 铜 铝 橡胶 大豆 豆粕 强麦\n",
    "- 周期：1分钟\n",
    "- 时间：2014 - 2019"
   ]
  },
  {
   "cell_type": "code",
   "execution_count": 40,
   "metadata": {},
   "outputs": [
    {
     "name": "stdout",
     "output_type": "stream",
     "text": [
      "Insert Bar: 112245 from 2014-01-02 09:01:00 - 2014-12-31 15:00:00\n",
      "Insert Bar: 112245 from 2014-01-02 09:01:00 - 2014-12-31 15:00:00\n",
      "Insert Bar: 55485 from 2014-01-02 09:01:00 - 2014-12-31 15:00:00\n",
      "Insert Bar: 56115 from 2014-01-02 09:01:00 - 2014-12-31 15:00:00\n",
      "Insert Bar: 56115 from 2014-01-02 09:01:00 - 2014-12-31 15:00:00\n"
     ]
    }
   ],
   "source": [
    "year = 2014\n",
    "move_single_symbol_to_mongodb(symbol='cu',year=year, exchange=Exchange.SHFE)\n",
    "move_single_symbol_to_mongodb(symbol='al',year=year, exchange=Exchange.SHFE)\n",
    "move_single_symbol_to_mongodb(symbol='ru',year=year, exchange=Exchange.SHFE)\n",
    "move_single_symbol_to_mongodb(symbol='a',year=year, exchange=Exchange.DCE)\n",
    "move_single_symbol_to_mongodb(symbol='m',year=year, exchange=Exchange.CZCE)"
   ]
  },
  {
   "cell_type": "code",
   "execution_count": 39,
   "metadata": {},
   "outputs": [
    {
     "name": "stdout",
     "output_type": "stream",
     "text": [
      "Insert Bar: 111540 from 2015-01-05 09:01:00 - 2015-12-31 15:00:00\n",
      "Insert Bar: 111540 from 2015-01-05 09:01:00 - 2015-12-31 15:00:00\n",
      "Insert Bar: 83220 from 2015-01-05 09:01:00 - 2015-12-31 15:00:00\n",
      "Insert Bar: 104520 from 2015-01-05 09:01:00 - 2015-12-31 15:00:00\n",
      "Insert Bar: 104520 from 2015-01-05 09:01:00 - 2015-12-31 15:00:00\n"
     ]
    }
   ],
   "source": [
    "year = 2015\n",
    "move_single_symbol_to_mongodb(symbol='cu',year=year, exchange=Exchange.SHFE)\n",
    "move_single_symbol_to_mongodb(symbol='al',year=year, exchange=Exchange.SHFE)\n",
    "move_single_symbol_to_mongodb(symbol='ru',year=year, exchange=Exchange.SHFE)\n",
    "move_single_symbol_to_mongodb(symbol='a',year=year, exchange=Exchange.DCE)\n",
    "move_single_symbol_to_mongodb(symbol='m',year=year, exchange=Exchange.CZCE)"
   ]
  },
  {
   "cell_type": "code",
   "execution_count": 32,
   "metadata": {},
   "outputs": [
    {
     "name": "stdout",
     "output_type": "stream",
     "text": [
      "Insert Bar: 111780 from 2016-01-04 09:01:00 - 2016-12-30 15:00:00\n"
     ]
    }
   ],
   "source": [
    "year = 2016\n",
    "move_single_symbol_to_mongodb(symbol='cu',year=year, exchange=Exchange.SHFE)\n",
    "move_single_symbol_to_mongodb(symbol='al',year=year, exchange=Exchange.SHFE)\n",
    "move_single_symbol_to_mongodb(symbol='ru',year=year, exchange=Exchange.SHFE)\n",
    "move_single_symbol_to_mongodb(symbol='a',year=year, exchange=Exchange.DCE)\n",
    "move_single_symbol_to_mongodb(symbol='m',year=year, exchange=Exchange.CZCE)"
   ]
  },
  {
   "cell_type": "code",
   "execution_count": 37,
   "metadata": {},
   "outputs": [
    {
     "name": "stdout",
     "output_type": "stream",
     "text": [
      "Insert Bar: 112020 from 2017-01-03 09:01:00 - 2017-12-29 15:00:00\n",
      "Insert Bar: 112020 from 2017-01-03 09:01:00 - 2017-12-29 15:00:00\n",
      "Insert Bar: 83460 from 2017-01-03 09:01:00 - 2017-12-29 15:00:00\n",
      "Insert Bar: 90450 from 2017-01-03 09:01:00 - 2017-12-29 15:00:00\n",
      "Insert Bar: 90450 from 2017-01-03 09:01:00 - 2017-12-29 15:00:00\n"
     ]
    }
   ],
   "source": [
    "year = 2017\n",
    "move_single_symbol_to_mongodb(symbol='cu',year=year, exchange=Exchange.SHFE)\n",
    "move_single_symbol_to_mongodb(symbol='al',year=year, exchange=Exchange.SHFE)\n",
    "move_single_symbol_to_mongodb(symbol='ru',year=year, exchange=Exchange.SHFE)\n",
    "move_single_symbol_to_mongodb(symbol='a',year=year, exchange=Exchange.DCE)\n",
    "move_single_symbol_to_mongodb(symbol='m',year=year, exchange=Exchange.CZCE)"
   ]
  },
  {
   "cell_type": "code",
   "execution_count": 38,
   "metadata": {},
   "outputs": [
    {
     "name": "stdout",
     "output_type": "stream",
     "text": [
      "Insert Bar: 111315 from 2018-01-02 09:01:00 - 2018-12-28 15:00:00\n",
      "Insert Bar: 111315 from 2018-01-02 09:01:00 - 2018-12-28 15:00:00\n",
      "Insert Bar: 82995 from 2018-01-02 09:01:00 - 2018-12-28 15:00:00\n",
      "Insert Bar: 90075 from 2018-01-02 09:01:00 - 2018-12-28 15:00:00\n",
      "Insert Bar: 90075 from 2018-01-02 09:01:00 - 2018-12-28 15:00:00\n"
     ]
    }
   ],
   "source": [
    "year = 2018\n",
    "move_single_symbol_to_mongodb(symbol='cu',year=year, exchange=Exchange.SHFE)\n",
    "move_single_symbol_to_mongodb(symbol='al',year=year, exchange=Exchange.SHFE)\n",
    "move_single_symbol_to_mongodb(symbol='ru',year=year, exchange=Exchange.SHFE)\n",
    "move_single_symbol_to_mongodb(symbol='a',year=year, exchange=Exchange.DCE)\n",
    "move_single_symbol_to_mongodb(symbol='m',year=year, exchange=Exchange.CZCE)"
   ]
  },
  {
   "cell_type": "code",
   "execution_count": 41,
   "metadata": {},
   "outputs": [
    {
     "name": "stdout",
     "output_type": "stream",
     "text": [
      "Insert Bar: 91785 from 2019-01-02 09:01:00 - 2019-10-31 15:00:00\n",
      "Insert Bar: 91785 from 2019-01-02 09:01:00 - 2019-10-31 15:00:00\n",
      "Insert Bar: 68505 from 2019-01-02 09:01:00 - 2019-10-31 15:00:00\n",
      "Insert Bar: 70185 from 2019-01-02 09:01:00 - 2019-10-31 15:00:00\n",
      "Insert Bar: 70185 from 2019-01-02 09:01:00 - 2019-10-31 15:00:00\n"
     ]
    }
   ],
   "source": [
    "year = 2019\n",
    "move_single_symbol_to_mongodb(symbol='cu',year=year, exchange=Exchange.SHFE)\n",
    "move_single_symbol_to_mongodb(symbol='al',year=year, exchange=Exchange.SHFE)\n",
    "move_single_symbol_to_mongodb(symbol='ru',year=year, exchange=Exchange.SHFE)\n",
    "move_single_symbol_to_mongodb(symbol='a',year=year, exchange=Exchange.DCE)\n",
    "move_single_symbol_to_mongodb(symbol='m',year=year, exchange=Exchange.CZCE)"
   ]
  },
  {
   "cell_type": "code",
   "execution_count": 43,
   "metadata": {},
   "outputs": [],
   "source": [
    "import talib\n",
    "talib.MACD?"
   ]
  },
  {
   "cell_type": "code",
   "execution_count": null,
   "metadata": {},
   "outputs": [],
   "source": []
  }
 ],
 "metadata": {
  "celltoolbar": "Tags",
  "kernelspec": {
   "display_name": "Python 3",
   "language": "python",
   "name": "python3"
  },
  "language_info": {
   "codemirror_mode": {
    "name": "ipython",
    "version": 3
   },
   "file_extension": ".py",
   "mimetype": "text/x-python",
   "name": "python",
   "nbconvert_exporter": "python",
   "pygments_lexer": "ipython3",
   "version": "3.7.1"
  }
 },
 "nbformat": 4,
 "nbformat_minor": 2
}
